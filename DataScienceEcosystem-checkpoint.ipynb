{
 "cells": [
  {
   "cell_type": "markdown",
   "id": "959edaaf-4052-4020-b053-66768fc54265",
   "metadata": {},
   "source": [
    "# Data Science Tools and Ecosystem"
   ]
  },
  {
   "cell_type": "markdown",
   "id": "57883754-3fe1-4a41-b8c4-94d7d8cfb47c",
   "metadata": {},
   "source": [
    "In this notebook, Data Science Tools and Ecosystem are summarized."
   ]
  },
  {
   "cell_type": "markdown",
   "id": "c7c3a8f7-204d-432d-8ef6-46aae32c6995",
   "metadata": {},
   "source": [
    "Some of the popular languages that Data Scientists use are:"
   ]
  },
  {
   "cell_type": "markdown",
   "id": "e52a06a2-29d2-4f3d-af0f-ff468d154cc9",
   "metadata": {},
   "source": [
    "1. TensorFlow\n",
    "2. Numpy\n",
    "3. Scipy\n",
    "4. Pandas\n",
    "5. Matplotlib\n",
    "6. Keras\n",
    "7. Scikit-Learn\n",
    "8. PyTorch. etc..;"
   ]
  },
  {
   "cell_type": "markdown",
   "id": "72f12c41-9a86-470a-b0fc-ec206130d751",
   "metadata": {},
   "source": [
    "| Data Science Tools|\n",
    "|--------------------|\n",
    "|PYTHON|\n",
    "|R|\n",
    "|HADOOP|\n"
   ]
  },
  {
   "cell_type": "markdown",
   "id": "583f3bf1-4fed-4837-92d0-82476144341c",
   "metadata": {},
   "source": [
    "### Below are a few examples of evaluating arithmetic expressions in Python"
   ]
  },
  {
   "cell_type": "code",
   "execution_count": 1,
   "id": "f8e67b20-aac9-4c22-952e-a19b683645ac",
   "metadata": {},
   "outputs": [
    {
     "data": {
      "text/plain": [
       "17"
      ]
     },
     "execution_count": 1,
     "metadata": {},
     "output_type": "execute_result"
    }
   ],
   "source": [
    " #This a simple arithmetic expression to mutiply then add integers\n",
    "(3*4)+5"
   ]
  },
  {
   "cell_type": "code",
   "execution_count": 2,
   "id": "86a2c6d8-f818-4b4f-9ad9-ed1922a593c7",
   "metadata": {
    "tags": []
   },
   "outputs": [
    {
     "data": {
      "text/plain": [
       "3.3333333333333335"
      ]
     },
     "execution_count": 2,
     "metadata": {},
     "output_type": "execute_result"
    }
   ],
   "source": [
    "#This will convert 200 minutes to hours by diving by 60\n",
    "200/60\n"
   ]
  },
  {
   "cell_type": "markdown",
   "id": "b55c8c3d-0d34-491e-b6e1-d1456e4f8fcc",
   "metadata": {},
   "source": [
    "__Objectives:__\n",
    "\n",
    "- List popular languages for Data Science\n",
    "- List popular libraries for Data Science\n",
    "- List of Well Known Data Science Tools\n",
    "- How to Provide Comment in the Cell\n"
   ]
  },
  {
   "cell_type": "markdown",
   "id": "7afc91fb-5cc3-4c51-8122-81f40b17b11f",
   "metadata": {},
   "source": [
    "## Author\n",
    "Eren Demir"
   ]
  },
  {
   "cell_type": "code",
   "execution_count": null,
   "id": "20b07fdd-4b53-4cf0-8c90-596ecac3f43a",
   "metadata": {},
   "outputs": [],
   "source": []
  },
  {
   "cell_type": "code",
   "execution_count": null,
   "id": "8300dff0-edd3-4fd9-ac87-7a30e8e4e102",
   "metadata": {},
   "outputs": [],
   "source": []
  }
 ],
 "metadata": {
  "kernelspec": {
   "display_name": "Python 3 (ipykernel)",
   "language": "python",
   "name": "python3"
  },
  "language_info": {
   "codemirror_mode": {
    "name": "ipython",
    "version": 3
   },
   "file_extension": ".py",
   "mimetype": "text/x-python",
   "name": "python",
   "nbconvert_exporter": "python",
   "pygments_lexer": "ipython3",
   "version": "3.9.7"
  }
 },
 "nbformat": 4,
 "nbformat_minor": 5
}
